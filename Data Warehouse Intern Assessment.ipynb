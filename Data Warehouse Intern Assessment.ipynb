{
  "nbformat": 4,
  "nbformat_minor": 0,
  "metadata": {
    "colab": {
      "provenance": [],
      "authorship_tag": "ABX9TyMa70YeAKEzqJHFD+jt3Y3A",
      "include_colab_link": true
    },
    "kernelspec": {
      "name": "python3",
      "display_name": "Python 3"
    },
    "language_info": {
      "name": "python"
    }
  },
  "cells": [
    {
      "cell_type": "markdown",
      "metadata": {
        "id": "view-in-github",
        "colab_type": "text"
      },
      "source": [
        "<a href=\"https://colab.research.google.com/github/Adxtxp/aditipendurkar.github.io/blob/main/Data%20Warehouse%20Intern%20Assessment.ipynb\" target=\"_parent\"><img src=\"https://colab.research.google.com/assets/colab-badge.svg\" alt=\"Open In Colab\"/></a>"
      ]
    },
    {
      "cell_type": "markdown",
      "source": [
        "Assessment Title: Data Warehouse Intern Assessment: ETL & Data Modeling\n",
        "\n",
        "Case Study: Sales Data Transformation for Analytical Reporting\n",
        "\n",
        "Name: Aditi Pendurkar\n",
        "\n",
        "Univeristy: Singapore Univeristy of Social Sciences\n",
        "\n",
        "Date: 13/09/2025"
      ],
      "metadata": {
        "id": "izAIFGRFZCc1"
      }
    },
    {
      "cell_type": "code",
      "execution_count": 150,
      "metadata": {
        "id": "2aK4VryuuQPc"
      },
      "outputs": [],
      "source": [
        "import csv\n",
        "import pandas as pd\n",
        "import sqlite3\n",
        "import numpy as np\n",
        "import matplotlib.pyplot as plt\n",
        "import seaborn as sns\n"
      ]
    },
    {
      "cell_type": "markdown",
      "source": [
        "I used a notepad and saved the file as a csv file. Alternatively, the tables could have been created in database with create table syntax.The script was written in python."
      ],
      "metadata": {
        "id": "gHqIEDh0WxtI"
      }
    },
    {
      "cell_type": "code",
      "source": [
        "#read data\n",
        "dataOrders=pd.read_csv('orders.csv')\n",
        "dataProducts=pd.read_csv('products.csv')\n",
        "\n",
        "\n"
      ],
      "metadata": {
        "id": "2hB-Fpfsuhru"
      },
      "execution_count": 151,
      "outputs": []
    },
    {
      "cell_type": "code",
      "source": [
        "dataOrders.info()\n",
        "print(\"Data Order shape:\", dataOrders.shape)\n"
      ],
      "metadata": {
        "colab": {
          "base_uri": "https://localhost:8080/"
        },
        "id": "kEcIxGRwvv6i",
        "outputId": "ad6a58af-aef4-44a9-8beb-14bdc0da2314"
      },
      "execution_count": 152,
      "outputs": [
        {
          "output_type": "stream",
          "name": "stdout",
          "text": [
            "<class 'pandas.core.frame.DataFrame'>\n",
            "RangeIndex: 7 entries, 0 to 6\n",
            "Data columns (total 6 columns):\n",
            " #   Column      Non-Null Count  Dtype  \n",
            "---  ------      --------------  -----  \n",
            " 0   OrderID     7 non-null      int64  \n",
            " 1   ProductID   7 non-null      object \n",
            " 2   CustomerID  7 non-null      object \n",
            " 3   OrderDate   7 non-null      object \n",
            " 4   Quantity    7 non-null      int64  \n",
            " 5   Price       7 non-null      float64\n",
            "dtypes: float64(1), int64(2), object(3)\n",
            "memory usage: 468.0+ bytes\n",
            "Data Order shape: (7, 6)\n"
          ]
        }
      ]
    },
    {
      "cell_type": "code",
      "source": [
        "dataProducts.info()\n",
        "print(\"Data Products shape:\", dataProducts.shape)\n",
        "#1.productID error in the column"
      ],
      "metadata": {
        "id": "hsB8EleQwD-y",
        "colab": {
          "base_uri": "https://localhost:8080/"
        },
        "outputId": "e9029191-35c3-41cf-9398-50909325ec35"
      },
      "execution_count": 153,
      "outputs": [
        {
          "output_type": "stream",
          "name": "stdout",
          "text": [
            "<class 'pandas.core.frame.DataFrame'>\n",
            "RangeIndex: 4 entries, 0 to 3\n",
            "Data columns (total 4 columns):\n",
            " #   Column       Non-Null Count  Dtype \n",
            "---  ------       --------------  ----- \n",
            " 0   ProductID    4 non-null      object\n",
            " 1   ProductName  4 non-null      object\n",
            " 2   Category     4 non-null      object\n",
            " 3   Cost         4 non-null      int64 \n",
            "dtypes: int64(1), object(3)\n",
            "memory usage: 260.0+ bytes\n",
            "Data Products shape: (4, 4)\n"
          ]
        }
      ]
    },
    {
      "cell_type": "code",
      "source": [
        "print(dataOrders)"
      ],
      "metadata": {
        "id": "LJYA9OfQ-fu7",
        "colab": {
          "base_uri": "https://localhost:8080/"
        },
        "outputId": "591b4cc4-ab70-4ca0-d0ed-cc164589d6c2"
      },
      "execution_count": 154,
      "outputs": [
        {
          "output_type": "stream",
          "name": "stdout",
          "text": [
            "   OrderID ProductID CustomerID OrderDate  Quantity  Price\n",
            "0     1001      P001       C101  5/1/2024         2   15.5\n",
            "1     1002      P002       C102  5/1/2024         1   25.0\n",
            "2     1003      P001       C103  6/1/2024         3   15.5\n",
            "3     1004      P003       C101  7/1/2024         1   50.0\n",
            "4     1005      P002       C104  8/1/2024         2   25.0\n",
            "5     1006      P004       C105  8/1/2024         1  120.0\n",
            "6     1007      P001       C102  9/1/2024         1   15.5\n"
          ]
        }
      ]
    },
    {
      "cell_type": "code",
      "source": [
        "print(dataProducts)"
      ],
      "metadata": {
        "colab": {
          "base_uri": "https://localhost:8080/"
        },
        "id": "hAjZ40Du-_LA",
        "outputId": "8795f0f9-1115-46d5-f616-6c22f2d39b54"
      },
      "execution_count": 155,
      "outputs": [
        {
          "output_type": "stream",
          "name": "stdout",
          "text": [
            "  ProductID ProductName     Category  Cost\n",
            "0      P001    Keyboard  Peripherals    10\n",
            "1      P002       Mouse  Peripherals    18\n",
            "2      P003     Monitor     Displays    40\n",
            "3      P004      Webcam  Peripherals    80\n"
          ]
        }
      ]
    },
    {
      "cell_type": "markdown",
      "source": [
        "**Qn 1:Transform**\n",
        "\n",
        "**\"Calculate the Revenue for each order line item (Quantity * Price).\"**"
      ],
      "metadata": {
        "id": "Ah8AmYyQ-vbV"
      }
    },
    {
      "cell_type": "code",
      "source": [
        "# transform\n",
        "dataOrders['Revenue'] =dataOrders['Quantity']*dataOrders['Price']\n",
        "\n",
        "\n",
        "print(dataOrders)\n"
      ],
      "metadata": {
        "colab": {
          "base_uri": "https://localhost:8080/"
        },
        "id": "t5-0Fv237QS4",
        "outputId": "ba98f777-c5a0-4a1b-9517-5e2d84eab212"
      },
      "execution_count": 156,
      "outputs": [
        {
          "output_type": "stream",
          "name": "stdout",
          "text": [
            "   OrderID ProductID CustomerID OrderDate  Quantity  Price  Revenue\n",
            "0     1001      P001       C101  5/1/2024         2   15.5     31.0\n",
            "1     1002      P002       C102  5/1/2024         1   25.0     25.0\n",
            "2     1003      P001       C103  6/1/2024         3   15.5     46.5\n",
            "3     1004      P003       C101  7/1/2024         1   50.0     50.0\n",
            "4     1005      P002       C104  8/1/2024         2   25.0     50.0\n",
            "5     1006      P004       C105  8/1/2024         1  120.0    120.0\n",
            "6     1007      P001       C102  9/1/2024         1   15.5     15.5\n"
          ]
        }
      ]
    },
    {
      "cell_type": "markdown",
      "source": [
        "**QN 1: Transform**\n",
        "\n",
        "\n",
        "**\"Derive OrderYear, OrderMonth, and OrderDay from the OrderDate.\"**"
      ],
      "metadata": {
        "id": "UUk6vkKA-hd4"
      }
    },
    {
      "cell_type": "code",
      "source": [
        "dataOrders['OrderDate'] = pd.to_datetime(dataOrders['OrderDate'])\n",
        "dataOrders['OrderYear'] = dataOrders['OrderDate'].dt.year\n",
        "dataOrders['OrderMonth'] = dataOrders['OrderDate'].dt.month\n",
        "dataOrders['OrderDay'] = dataOrders['OrderDate'].dt.day\n",
        "\n",
        "selectedData = dataOrders[['OrderDate', 'OrderYear', 'OrderMonth', 'OrderDay']]\n",
        "\n",
        "print(selectedData)\n"
      ],
      "metadata": {
        "colab": {
          "base_uri": "https://localhost:8080/"
        },
        "id": "ijLLmZ3U-5C2",
        "outputId": "34fc9edd-7d2a-4f7d-ac74-11017c6cf8cb"
      },
      "execution_count": 157,
      "outputs": [
        {
          "output_type": "stream",
          "name": "stdout",
          "text": [
            "   OrderDate  OrderYear  OrderMonth  OrderDay\n",
            "0 2024-05-01       2024           5         1\n",
            "1 2024-05-01       2024           5         1\n",
            "2 2024-06-01       2024           6         1\n",
            "3 2024-07-01       2024           7         1\n",
            "4 2024-08-01       2024           8         1\n",
            "5 2024-08-01       2024           8         1\n",
            "6 2024-09-01       2024           9         1\n"
          ]
        }
      ]
    },
    {
      "cell_type": "markdown",
      "source": [
        "**Join the orders and products data to enrich the sales records\n",
        "with product details (e.g., ProductName, Category).**"
      ],
      "metadata": {
        "id": "_sD3wUtjDYNz"
      }
    },
    {
      "cell_type": "code",
      "source": [
        "mergedData = pd.merge(dataOrders, dataProducts, on='ProductID', how='left')\n",
        "\n",
        "print(mergedData)"
      ],
      "metadata": {
        "colab": {
          "base_uri": "https://localhost:8080/"
        },
        "id": "EklBQlRSB7jt",
        "outputId": "a1a13865-26c9-47fc-c751-4d21ceb76d05"
      },
      "execution_count": 158,
      "outputs": [
        {
          "output_type": "stream",
          "name": "stdout",
          "text": [
            "   OrderID ProductID CustomerID  OrderDate  Quantity  Price  Revenue  \\\n",
            "0     1001      P001       C101 2024-05-01         2   15.5     31.0   \n",
            "1     1002      P002       C102 2024-05-01         1   25.0     25.0   \n",
            "2     1003      P001       C103 2024-06-01         3   15.5     46.5   \n",
            "3     1004      P003       C101 2024-07-01         1   50.0     50.0   \n",
            "4     1005      P002       C104 2024-08-01         2   25.0     50.0   \n",
            "5     1006      P004       C105 2024-08-01         1  120.0    120.0   \n",
            "6     1007      P001       C102 2024-09-01         1   15.5     15.5   \n",
            "\n",
            "   OrderYear  OrderMonth  OrderDay ProductName     Category  Cost  \n",
            "0       2024           5         1    Keyboard  Peripherals    10  \n",
            "1       2024           5         1       Mouse  Peripherals    18  \n",
            "2       2024           6         1    Keyboard  Peripherals    10  \n",
            "3       2024           7         1     Monitor     Displays    40  \n",
            "4       2024           8         1       Mouse  Peripherals    18  \n",
            "5       2024           8         1      Webcam  Peripherals    80  \n",
            "6       2024           9         1    Keyboard  Peripherals    10  \n"
          ]
        }
      ]
    },
    {
      "cell_type": "markdown",
      "source": [
        "**Load: Load the transformed data into a structured format. You are\n",
        "encouraged to use a SQLite database to store the processed data,\n",
        "designing appropriate tables for a simple data warehouse schema\n",
        "(e.g., a fact table for sales and dimension tables for products and\n",
        "dates). If SQLite is not feasible, clearly explain your chosen storage\n",
        "method (e.g., flat files in a structured format like Parquet or CSV).**\n",
        "\n",
        "**I used SQLlite database.**"
      ],
      "metadata": {
        "id": "wlrN5MxFc7Zf"
      }
    },
    {
      "cell_type": "code",
      "source": [
        "conn= sqlite3.connect(\"orderDetails.db\")\n",
        "cur= conn.cursor()\n",
        "cur.execute(\"PRAGMA foreign_keys = ON;\")\n",
        "\n",
        "\n"
      ],
      "metadata": {
        "id": "F8u0NTCYfHec",
        "colab": {
          "base_uri": "https://localhost:8080/"
        },
        "outputId": "d4d3660f-9b5d-4e7f-9060-c64551f463e9"
      },
      "execution_count": 159,
      "outputs": [
        {
          "output_type": "execute_result",
          "data": {
            "text/plain": [
              "<sqlite3.Cursor at 0x7c8c7f113e40>"
            ]
          },
          "metadata": {},
          "execution_count": 159
        }
      ]
    },
    {
      "cell_type": "code",
      "source": [
        "cur.executescript(\"\"\"\n",
        "CREATE TABLE IF NOT EXISTS dataProduct (\n",
        "  productKey   INTEGER PRIMARY KEY,\n",
        "  ProductID     TEXT UNIQUE NOT NULL,\n",
        "  ProductName   TEXT NOT NULL,\n",
        "  Category      TEXT NOT NULL,\n",
        "  Cost          REAL NOT NULL\n",
        ");\n",
        "CREATE TABLE IF NOT EXISTS dateDetails (\n",
        "  dateKey  INTEGER PRIMARY KEY,\n",
        "  dateISO  TEXT NOT NULL,\n",
        "  Year      INTEGER NOT NULL,\n",
        "  Month     INTEGER NOT NULL,\n",
        "  Day       INTEGER NOT NULL\n",
        ");\n",
        "CREATE TABLE IF NOT EXISTS transactionsDetails (\n",
        "  salesKey    INTEGER PRIMARY KEY,\n",
        "  dateKey     INTEGER NOT NULL,\n",
        "  productKey  INTEGER NOT NULL,\n",
        "  quantity    INTEGER NOT NULL,\n",
        "  unitPrice   REAL NOT NULL,\n",
        "  FOREIGN KEY (dateKey) REFERENCES dateDetails(dateKey),\n",
        "  FOREIGN KEY (productKey) REFERENCES dataProduct(productKey)\n",
        ");\n",
        "\"\"\")\n",
        "conn.commit()"
      ],
      "metadata": {
        "id": "aI-FE--lec65"
      },
      "execution_count": 160,
      "outputs": []
    },
    {
      "cell_type": "code",
      "source": [
        "#cleaning data sets\n",
        "dataProduct_df = (\n",
        "    dataProducts[['ProductID','ProductName','Category','Cost']]\n",
        "    .drop_duplicates()\n",
        "    .reset_index(drop=True)\n",
        ")\n",
        "dataProduct_df.insert(0, \"productKey\", range(1, len(dataProduct_df)+1))\n",
        "\n",
        "# Extract date parts and create dateKey and dateISO in dataOrders first\n",
        "dataOrders['OrderDate'] = pd.to_datetime(dataOrders['OrderDate'])\n",
        "dataOrders['dateKey'] = dataOrders['OrderDate'].dt.strftime(\"%Y%m%d\").astype(int)\n",
        "dataOrders['dateISO'] = dataOrders['OrderDate'].dt.strftime(\"%Y-%m-%d\")\n",
        "dataOrders['Year']    = dataOrders['OrderDate'].dt.year\n",
        "dataOrders['Month']   = dataOrders['OrderDate'].dt.month\n",
        "dataOrders['Day']     = dataOrders['OrderDate'].dt.day\n",
        "\n",
        "\n",
        "dateDetails_df = (\n",
        "    dataOrders[['dateKey','dateISO','Year','Month','Day']]\n",
        "    .drop_duplicates()\n",
        "    .reset_index(drop=True)\n",
        ")"
      ],
      "metadata": {
        "id": "FFyyl9xzmXK9"
      },
      "execution_count": 161,
      "outputs": []
    },
    {
      "cell_type": "code",
      "source": [
        "prod_map = dict(zip(dataProduct_df['ProductID'], dataProduct_df['productKey']))\n",
        "transactions_df = mergedData.copy()\n",
        "transactions_df['dateKey']   = transactions_df['OrderDate'].dt.strftime(\"%Y%m%d\").astype(int)\n",
        "transactions_df['productKey'] = transactions_df['ProductID'].map(prod_map)\n",
        "transactions_df = transactions_df.rename(columns={\n",
        "    'OrderID':'salesKey',\n",
        "    'Quantity':'quantity',\n",
        "    'Price':'unitPrice'\n",
        "})[['salesKey','dateKey','productKey','quantity','unitPrice']]"
      ],
      "metadata": {
        "id": "gCgzGjajoFWl"
      },
      "execution_count": 162,
      "outputs": []
    },
    {
      "cell_type": "code",
      "source": [
        "dataProduct_df.to_sql(\"dataProduct\", conn, if_exists=\"replace\", index=False)\n",
        "dateDetails_df.to_sql(\"dateDetails\", conn, if_exists=\"replace\", index=False)\n",
        "transactions_df.to_sql(\"transactionsDetails\", conn, if_exists=\"replace\", index=False)\n"
      ],
      "metadata": {
        "colab": {
          "base_uri": "https://localhost:8080/"
        },
        "id": "vv3BRzf5oGGK",
        "outputId": "c4eb01f2-ab4c-4055-f10c-517f9e817448"
      },
      "execution_count": 163,
      "outputs": [
        {
          "output_type": "execute_result",
          "data": {
            "text/plain": [
              "7"
            ]
          },
          "metadata": {},
          "execution_count": 163
        }
      ]
    },
    {
      "cell_type": "code",
      "source": [
        "conn = sqlite3.connect(\"orderDetails.db\")\n",
        "\n",
        "check = pd.read_sql_query(\"\"\"\n",
        "SELECT *\n",
        "FROM dateDetails\n",
        "\n",
        "\"\"\", conn)\n",
        "\n",
        "print(check)"
      ],
      "metadata": {
        "colab": {
          "base_uri": "https://localhost:8080/"
        },
        "id": "keM053TRt489",
        "outputId": "a6d2e265-7b04-42a2-e915-e9b165eda5bc"
      },
      "execution_count": 164,
      "outputs": [
        {
          "output_type": "stream",
          "name": "stdout",
          "text": [
            "    dateKey     dateISO  Year  Month  Day\n",
            "0  20240501  2024-05-01  2024      5    1\n",
            "1  20240601  2024-06-01  2024      6    1\n",
            "2  20240701  2024-07-01  2024      7    1\n",
            "3  20240801  2024-08-01  2024      8    1\n",
            "4  20240901  2024-09-01  2024      9    1\n"
          ]
        }
      ]
    },
    {
      "cell_type": "markdown",
      "source": [
        "**Analytical Query (SQL):\n",
        "o Write a SQL query against your designed data warehouse schema to\n",
        "answer the following business question: \"What is the total revenue for each\n",
        "product category for each month in the data?\"**"
      ],
      "metadata": {
        "id": "GOa_IvEiorPq"
      }
    },
    {
      "cell_type": "code",
      "source": [
        "conn = sqlite3.connect(\"orderDetails.db\")\n",
        "\n",
        "check = pd.read_sql_query(\"\"\"\n",
        "SELECT\n",
        "  d.Year,\n",
        "  d.Month,\n",
        "  p.Category,\n",
        "  ROUND(SUM(t.quantity * t.unitPrice), 2) AS total_revenue\n",
        "FROM transactionsDetails AS t\n",
        "JOIN dateDetails       AS d ON t.dateKey    = d.dateKey\n",
        "JOIN dataProduct       AS p ON t.productKey = p.productKey\n",
        "GROUP BY d.Year, d.Month, p.Category\n",
        "ORDER BY d.Year, d.Month, p.Category\n",
        ";\n",
        "\"\"\", conn)\n",
        "\n",
        "print(check)"
      ],
      "metadata": {
        "colab": {
          "base_uri": "https://localhost:8080/"
        },
        "id": "u3TS8sgzoSE7",
        "outputId": "eaa7805b-3aab-4cd8-d0c2-fed2b7274bdb"
      },
      "execution_count": 165,
      "outputs": [
        {
          "output_type": "stream",
          "name": "stdout",
          "text": [
            "   Year  Month     Category  total_revenue\n",
            "0  2024      5  Peripherals           56.0\n",
            "1  2024      6  Peripherals           46.5\n",
            "2  2024      7     Displays           50.0\n",
            "3  2024      8  Peripherals          170.0\n",
            "4  2024      9  Peripherals           15.5\n"
          ]
        }
      ]
    },
    {
      "cell_type": "code",
      "source": [
        "conn.commit()\n",
        "conn.close()"
      ],
      "metadata": {
        "id": "Y47P-AEUoKqg"
      },
      "execution_count": 167,
      "outputs": []
    },
    {
      "cell_type": "markdown",
      "source": [
        "**Qn-Data Modeling:\n",
        "o In your solution, clearly outline the schema you designed for your data\n",
        "warehouse. Describe the tables (e.g., FactSales, DimProduct, DimDate), their\n",
        "columns, and the relationships between them. A simple star schema is\n",
        "expected.**"
      ],
      "metadata": {
        "id": "YU2NgAqhnZhP"
      }
    },
    {
      "cell_type": "markdown",
      "source": [
        "**Data Modelling:**\n",
        "\n",
        "Schema:\n",
        "transactionsDetails(FactSales):\n",
        "\n",
        "    salesKey, dateKey, productKey, quantity,unitPrice\n",
        "\n",
        "salesKey- Primary Key\n",
        "dateKey- Foreign Key\n",
        "productKey- Foreign Key\n",
        "\n",
        "dataProduct (DimProduct):\n",
        "\n",
        "    productKey, ProductID, ProductName, Category, Cost   \n",
        "\n",
        "productKey- Primary Key\n",
        "    \n",
        "\n",
        "dateDetails (dateDetails) :\n",
        "\n",
        "    dateKey, dateISO, Year, Month, Day\n",
        "dateKey- Primary Key\n",
        "\n",
        "There is a 1 to many relationship between transactionDetail.productKey and DataProduct.productKey.\n",
        "\n",
        "There is also a 1 to many realtionship between transactionDetails.dateKey and dateDeatils.dateKey\n",
        "\n"
      ],
      "metadata": {
        "id": "12Czkp5EEWek"
      }
    },
    {
      "cell_type": "markdown",
      "source": [
        " **Qn:Dashboarding Use Case:**\n",
        "\n",
        " **How your designed data model (FactSales, DimProduct, DimDate or\n",
        "similar) is suitable for efficient dashboarding.**"
      ],
      "metadata": {
        "id": "dF2Ktbw7Hrxa"
      }
    },
    {
      "cell_type": "markdown",
      "source": [
        "\n",
        "1. Summarisation of Data\n",
        "    - Data can be sorted into year, month and category for easier visualisation and understanding. This is especially important when dealing with large datasets.\n",
        "    - can also be presented in the form of charts and graphs\n",
        "\n",
        "\n",
        "2. Simple Joins using foreign key and primary key\n",
        "    - Keeps queries simple and makes data processing faster and predictable. This allows for fewer columns, faster scans and computationally cheaper joins.\n",
        "\n",
        "\n",
        "\n",
        "\n",
        "3. Rich Time Intelligence\n",
        "   - dateDetails has Year, Month and Day so tools can build monthly/yearly trends and enable period comparisons without the need to recompute data on the fly.\n",
        "\n"
      ],
      "metadata": {
        "id": "rkp7yhFwHtug"
      }
    },
    {
      "cell_type": "markdown",
      "source": [
        "**What are three key metrics or visualizations you would propose for\n",
        "this sales dashboard? Explain why each is important for\n",
        "understanding sales performance. (You don't need to build the\n",
        "dashboard, just describe your approach).**"
      ],
      "metadata": {
        "id": "cyZnvfyvLkiy"
      }
    },
    {
      "cell_type": "markdown",
      "source": [
        "\n",
        "1. Monthly revenue by category\n",
        "  - This would help with demand analysis as it helps businesses see seasonal patterns and trends. Comparison of categories and understanding of this data enable well-informed decisions on inventory allocation, as well as the needs of the customer base. This, in turn, allows for more tailored products to be released and increases their likelihood of being well-received. This would increase revenue.\n",
        "\n",
        "\n",
        "2. Top Products by Revenue\n",
        "  - Bar graphs can be used to display this data. This would highlight the best performing sales, which can be prioritised to stock up and drive promotions. The highest earning products within a chosen period of time can be evaluated.\n",
        "  - Moreover, this knowledge can be used to spot opportunities for new promotions and sales\n",
        "\n",
        "\n",
        "3. Product's Average Price(X axis) vs Revenue (Y axis)\n",
        "  - A scatter plot/ linear regression can be used to model this data. This would highlight whether most of the revenue comes from lower-priced, high-volume goods or higher-priced, low-volume goods. This helps to refine the marketing strategy and product positioning decisions to maximise sales and revenues.\n",
        "  - The linear regression line's metrics, such as the R2 score, indicate how strongly the price relates to the revenue. A high R2 score indicates that revenue is strongly related to price."
      ],
      "metadata": {
        "id": "Ek6bsj79L52u"
      }
    }
  ]
}